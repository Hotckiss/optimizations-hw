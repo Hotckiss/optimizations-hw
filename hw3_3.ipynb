{
 "cells": [
  {
   "cell_type": "code",
   "execution_count": 123,
   "metadata": {},
   "outputs": [],
   "source": [
    "import numpy as np"
   ]
  },
  {
   "cell_type": "code",
   "execution_count": 124,
   "metadata": {},
   "outputs": [],
   "source": [
    "#3a\n",
    "#могу так\n",
    "def polyregression1(x, y, n):\n",
    "    return np.array(list(reversed(np.polyfit(x, y, n))))"
   ]
  },
  {
   "cell_type": "code",
   "execution_count": 125,
   "metadata": {},
   "outputs": [],
   "source": [
    "#чуть больше самостоятельности -- минимизация суммы квадратов это минимизация нормы ||ga - y||^2 по а\n",
    "#минимизируем встроенной штукой\n",
    "def polyregression2(x, y, n):\n",
    "    m = len(x)\n",
    "    g = np.zeros([m, n + 1])\n",
    "    for i in range(m):\n",
    "        g[i][0] = 1\n",
    "        for j in range(n):\n",
    "            g[i][j + 1] = g[i][j] * x[i]\n",
    "    return np.linalg.lstsq(g, y, rcond=None)[0]"
   ]
  },
  {
   "cell_type": "code",
   "execution_count": 126,
   "metadata": {},
   "outputs": [],
   "source": [
    "# а еще мы знаем где минимум достигается (aT * a * x = aT * b), поэтому сами посчитаем\n",
    "# можно вместо solve вызвать обратную матрицу, но не очень принципиально\n",
    "def polyregression3(x, y, n):\n",
    "    m = len(x)\n",
    "    g = np.zeros([m, n + 1])\n",
    "    for i in range(m):\n",
    "        g[i][0] = 1\n",
    "        for j in range(n):\n",
    "            g[i][j + 1] = g[i][j] * x[i]\n",
    "    return np.linalg.solve(np.matmul(np.transpose(g), g), np.matmul(np.transpose(g), y))"
   ]
  },
  {
   "cell_type": "code",
   "execution_count": 127,
   "metadata": {},
   "outputs": [
    {
     "name": "stdout",
     "output_type": "stream",
     "text": [
      "[-0.03968254  1.69312169 -0.81349206  0.08703704]\n",
      "[-0.03968254  1.69312169 -0.81349206  0.08703704]\n",
      "[-0.03968254  1.69312169 -0.81349206  0.08703704]\n"
     ]
    }
   ],
   "source": [
    "u = np.array([0.0, 1.0, 2.0, 3.0,  4.0,  5.0])\n",
    "v = np.array([0.0, 0.8, 0.9, 0.1, -0.8, -1.0])\n",
    "deg = 3\n",
    "print(polyregression1(u, v, deg))\n",
    "print(polyregression2(u, v, deg))\n",
    "print(polyregression3(u, v, deg))"
   ]
  },
  {
   "cell_type": "code",
   "execution_count": 128,
   "metadata": {},
   "outputs": [],
   "source": [
    "#3b\n",
    "from numpy import *\n",
    "from scipy import optimize\n",
    "\n",
    "x = np.array([36, 36, 19, 18, 33, 26])\n",
    "y = np.array([14, 10, 28, 31, 18, 26])\n",
    "#возвращаем массив расстояний до центра окружности\n",
    "def list_of_distances_from_all_points(pnt):\n",
    "    return sqrt((x - pnt[0]) ** 2 + (y - pnt[1]) ** 2)\n",
    "\n",
    "#если центр задан, то искомый радиус -- среднее расстояние до точки от центра\n",
    "#возвращаем массив расстояний до оптимальной окружности с заданным центром\n",
    "def distances_to_circle(center):\n",
    "    distances = list_of_distances_from_all_points(center)\n",
    "    return distances - distances.mean()\n",
    "\n",
    "def solution():\n",
    "    #первое приближение оптимального центра\n",
    "    xs = x.mean()\n",
    "    ys = y.mean()\n",
    "    start = xs, ys\n",
    "    #хотим минимизировать сумму квадратов того, что возвращает 'distances_to_circle', это и делает leastsq\n",
    "    (xopt, yopt), _ = optimize.leastsq(distances_to_circle, start)\n",
    "    point_opt = np.array([xopt, yopt])\n",
    "    radius_opt = list_of_distances_from_all_points(point_opt).mean()\n",
    "    return (point_opt, radius_opt)\n",
    "    "
   ]
  },
  {
   "cell_type": "code",
   "execution_count": 129,
   "metadata": {},
   "outputs": [
    {
     "name": "stdout",
     "output_type": "stream",
     "text": [
      "(array([9.88759499, 3.6875234 ]), 27.35040767420324)\n"
     ]
    }
   ],
   "source": [
    "print(solution())"
   ]
  },
  {
   "cell_type": "code",
   "execution_count": null,
   "metadata": {},
   "outputs": [],
   "source": []
  },
  {
   "cell_type": "code",
   "execution_count": null,
   "metadata": {},
   "outputs": [],
   "source": []
  }
 ],
 "metadata": {
  "kernelspec": {
   "display_name": "Python 2",
   "language": "python",
   "name": "python2"
  },
  "language_info": {
   "codemirror_mode": {
    "name": "ipython",
    "version": 2
   },
   "file_extension": ".py",
   "mimetype": "text/x-python",
   "name": "python",
   "nbconvert_exporter": "python",
   "pygments_lexer": "ipython2",
   "version": "2.7.15"
  }
 },
 "nbformat": 4,
 "nbformat_minor": 1
}
