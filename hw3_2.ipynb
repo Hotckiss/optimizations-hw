{
 "cells": [
  {
   "cell_type": "code",
   "execution_count": 108,
   "metadata": {},
   "outputs": [],
   "source": [
    "import numpy as np"
   ]
  },
  {
   "cell_type": "code",
   "execution_count": 109,
   "metadata": {},
   "outputs": [],
   "source": [
    "#2a\n",
    "def func(x):\n",
    "    return np.e ** (x[0] + 3 * x[1]) + np.e ** (x[0] - 3 * x[1]) + np.e ** (-x[0])\n",
    "\n",
    "def f_grad(x):\n",
    "    return np.array([np.e ** (x[0] + 3 * x[1]) + np.e ** (x[0] - 3 * x[1]) - np.e ** (-x[0]), \n",
    "                     3 * (np.e ** (6 * x[1]) - 1) * np.e ** (x[0] - 3 * x[1])])"
   ]
  },
  {
   "cell_type": "code",
   "execution_count": 110,
   "metadata": {},
   "outputs": [
    {
     "name": "stdout",
     "output_type": "stream",
     "text": [
      "523.4107956871724\n",
      "523.4107956871724\n"
     ]
    }
   ],
   "source": [
    "#2b\n",
    "eps = 0.01\n",
    "eps_grid = 0.01\n",
    "x1 = -1\n",
    "max_M = -1000000000\n",
    "\n",
    "#random\n",
    "iters = 1000000\n",
    "for i in range(iters):\n",
    "    p = np.random.random([2]) * 2 - 1\n",
    "    p000 = np.array([p[0] + eps, p[1] + eps])\n",
    "    p001 = np.array([p[0] + eps, p[1] - eps])\n",
    "    p010 = np.array([p[0] - eps, p[1] + eps])\n",
    "    p011 = np.array([p[0] - eps, p[1] - eps])\n",
    "    p100 = np.array([p[0], p[1] + eps])\n",
    "    p101 = np.array([p[0], p[1] - eps])\n",
    "    p110 = np.array([p[0] + eps, p[1]])\n",
    "    p111 = np.array([p[0] - eps, p[1]])\n",
    "    max_M = max(max_M, np.linalg.norm(f_grad(p) - f_grad(p000)) / np.linalg.norm(p - p000))\n",
    "    max_M = max(max_M, np.linalg.norm(f_grad(p) - f_grad(p001)) / np.linalg.norm(p - p001))\n",
    "    max_M = max(max_M, np.linalg.norm(f_grad(p) - f_grad(p010)) / np.linalg.norm(p - p010))\n",
    "    max_M = max(max_M, np.linalg.norm(f_grad(p) - f_grad(p011)) / np.linalg.norm(p - p011))\n",
    "    max_M = max(max_M, np.linalg.norm(f_grad(p) - f_grad(p100)) / np.linalg.norm(p - p100))\n",
    "    max_M = max(max_M, np.linalg.norm(f_grad(p) - f_grad(p101)) / np.linalg.norm(p - p101))\n",
    "    max_M = max(max_M, np.linalg.norm(f_grad(p) - f_grad(p110)) / np.linalg.norm(p - p110))\n",
    "    max_M = max(max_M, np.linalg.norm(f_grad(p) - f_grad(p111)) / np.linalg.norm(p - p111))\n",
    "print(max_M) # approx 523.1495449078291\n",
    "\n",
    "#grid\n",
    "while x1 <= 1:\n",
    "    y1 = -1\n",
    "    while y1 <= 1:\n",
    "        p = np.array([x1, y1])\n",
    "        p000 = np.array([p[0] + eps, p[1] + eps])\n",
    "        p001 = np.array([p[0] + eps, p[1] - eps])\n",
    "        p010 = np.array([p[0] - eps, p[1] + eps])\n",
    "        p011 = np.array([p[0] - eps, p[1] - eps])\n",
    "        p100 = np.array([p[0], p[1] + eps])\n",
    "        p101 = np.array([p[0], p[1] - eps])\n",
    "        p110 = np.array([p[0] + eps, p[1]])\n",
    "        p111 = np.array([p[0] - eps, p[1]])\n",
    "        max_M = max(max_M, np.linalg.norm(f_grad(p) - f_grad(p000)) / np.linalg.norm(p - p000))\n",
    "        max_M = max(max_M, np.linalg.norm(f_grad(p) - f_grad(p001)) / np.linalg.norm(p - p001))\n",
    "        max_M = max(max_M, np.linalg.norm(f_grad(p) - f_grad(p010)) / np.linalg.norm(p - p010))\n",
    "        max_M = max(max_M, np.linalg.norm(f_grad(p) - f_grad(p011)) / np.linalg.norm(p - p011))\n",
    "        max_M = max(max_M, np.linalg.norm(f_grad(p) - f_grad(p100)) / np.linalg.norm(p - p100))\n",
    "        max_M = max(max_M, np.linalg.norm(f_grad(p) - f_grad(p101)) / np.linalg.norm(p - p101))\n",
    "        max_M = max(max_M, np.linalg.norm(f_grad(p) - f_grad(p110)) / np.linalg.norm(p - p110))\n",
    "        max_M = max(max_M, np.linalg.norm(f_grad(p) - f_grad(p111)) / np.linalg.norm(p - p111))\n",
    "        y1 += eps_grid\n",
    "    x1 += eps_grid\n",
    "print(max_M) # хуже рандома\n",
    "\n",
    "#можно посчитать корень из суммы квадратов 2 производной и подставить:\n",
    "#f'_xx = f = e^(x+3y)+e^(x-3y)+e^(-x) ; f'_xy = 3(e^(x+3y)-e^(x-3y)); f'_yy = 9(e^(x+3y)+e^(x-3y)).\n",
    "# все степени не более 4\n",
    "# в f'_xx коэф перед e^4 не более 3\n",
    "# в 2 * f'_xy коэф перед e^4 не более 2 * 3 = 6\n",
    "# в f'_yy коэф перед e^4 не более 9 * (1 + 1) = 18\n",
    "# получается оценка e^4 * sqrt(3 ** 2 + 6 ** 2 + 18 ** 2) = 1091\n",
    "# рандом выдает 523 значит оценка точна весьма"
   ]
  },
  {
   "cell_type": "code",
   "execution_count": 111,
   "metadata": {},
   "outputs": [],
   "source": [
    "#2c\n",
    "my_max_M = 1091\n",
    "start_point = np.array([-0.5, -0.5])\n",
    "steps_num = 3000\n",
    "\n",
    "#optimal step\n",
    "alpha = 1.0 / (my_max_M)\n",
    "traj_opt_step = []\n",
    "x_start = start_point\n",
    "traj_opt_step.append(x_start.copy())\n",
    "cur_x = x_start.copy()\n",
    "for i in range(steps_num):\n",
    "    cur_x = cur_x - alpha * f_grad(cur_x)\n",
    "    traj_opt_step.append(cur_x.copy()) "
   ]
  },
  {
   "cell_type": "code",
   "execution_count": 112,
   "metadata": {},
   "outputs": [
    {
     "name": "stdout",
     "output_type": "stream",
     "text": [
      "[-3.46664006e-01 -5.39809155e-16]\n"
     ]
    }
   ],
   "source": [
    "print(traj_opt_step[-1])"
   ]
  },
  {
   "cell_type": "code",
   "execution_count": 113,
   "metadata": {},
   "outputs": [],
   "source": [
    "#nesterov\n",
    "a = 1.0 / my_max_M\n",
    "traj_nesterov = [start_point.copy()]\n",
    "cx = start_point.copy()\n",
    "cy = start_point.copy()\n",
    "for i in range(steps_num):\n",
    "    px = cx\n",
    "    py = cy\n",
    "    pa = a\n",
    "    cx = cy - (f_grad(cy) / my_max_M)\n",
    "    a = (- pa ** 2 + np.sqrt(pa ** 4 + 4 * pa ** 2)) / 2\n",
    "    cb = pa * (1 - pa) / (pa ** 2 + a)\n",
    "    cy = cx + cb * (cx - px)\n",
    "    traj_nesterov.append(cx.copy()) "
   ]
  },
  {
   "cell_type": "code",
   "execution_count": 114,
   "metadata": {},
   "outputs": [
    {
     "name": "stdout",
     "output_type": "stream",
     "text": [
      "[-3.47055191e-01  1.18742540e-09]\n"
     ]
    }
   ],
   "source": [
    "print(traj_nesterov[-1])"
   ]
  },
  {
   "cell_type": "code",
   "execution_count": null,
   "metadata": {},
   "outputs": [],
   "source": []
  }
 ],
 "metadata": {
  "kernelspec": {
   "display_name": "Python 2",
   "language": "python",
   "name": "python2"
  },
  "language_info": {
   "codemirror_mode": {
    "name": "ipython",
    "version": 2
   },
   "file_extension": ".py",
   "mimetype": "text/x-python",
   "name": "python",
   "nbconvert_exporter": "python",
   "pygments_lexer": "ipython2",
   "version": "2.7.15"
  }
 },
 "nbformat": 4,
 "nbformat_minor": 1
}
