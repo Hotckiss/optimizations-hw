{
 "cells": [
  {
   "cell_type": "code",
   "execution_count": 55,
   "metadata": {},
   "outputs": [],
   "source": [
    "import numpy as np\n",
    "import math\n",
    "from scipy.optimize import linprog"
   ]
  },
  {
   "cell_type": "code",
   "execution_count": 56,
   "metadata": {},
   "outputs": [],
   "source": [
    "# Ax <= b\n",
    "def inner_point(A, b):\n",
    "    n = len(A[0])\n",
    "    cur_b = [(-np.inf, np.inf) for i in range(n)]\n",
    "    def solve(c):\n",
    "        return linprog(c, A_ub=A, b_ub=b, bounds=cur_b)\n",
    "    \n",
    "    #middle point of coordinate bounds\n",
    "    def step_middle(i):\n",
    "        res_min = solve(np.eye(1, n, i)[0])\n",
    "        res_max = solve(-np.eye(1, n, i)[0])\n",
    "        \n",
    "        status = (res_min.status, res_max.status)\n",
    "        if status == (3, 3):\n",
    "            return 0\n",
    "        elif status == (3, 0):\n",
    "            return -res_max.fun - 1\n",
    "        elif status == (0, 3):\n",
    "            return res_min.fun + 1\n",
    "        elif status == (0, 0):\n",
    "            is_equal = (res_min.fun + res_max.fun) / 2\n",
    "            res = (res_min.fun - res_max.fun) / 2\n",
    "            return None if is_equal == 0 else res\n",
    "        else:\n",
    "            return None\n",
    "    \n",
    "    ans = []\n",
    "    for i in range(n):\n",
    "        x_i = step_middle(i)\n",
    "        if x_i is None:\n",
    "            return None\n",
    "        ans.append(x_i)\n",
    "        cur_b[i] = (x_i, x_i)\n",
    "    return ans"
   ]
  },
  {
   "cell_type": "code",
   "execution_count": 61,
   "metadata": {},
   "outputs": [],
   "source": [
    "N = 70\n",
    "\n",
    "def inner_point_method(A, b, c, Ag, bg, x_start = None):\n",
    "    n = len(Ag[0])\n",
    "    m = len(Ag)\n",
    "\n",
    "    def func(x):\n",
    "        return (0.5 * np.matmul(np.transpose(x), np.matmul(A, x)) - np.matmul(np.transpose(b), x) + c)[0][0]\n",
    "    \n",
    "    def f_grad(x):\n",
    "        return np.matmul(A, x) - b\n",
    "\n",
    "    def f_hess(x):\n",
    "        return A\n",
    "    \n",
    "    def log_bar_grad(v):\n",
    "        s = 0\n",
    "        for i in range(len(bg)):\n",
    "            s += 1.0 / (bg[i][0] - np.dot(Ag[i], v)[0]) * Ag[i].T\n",
    "        return np.matrix(s).T\n",
    "\n",
    "    def log_bar_hess(v):\n",
    "        s = 0\n",
    "        d = np.diag(np.array([1.0 / (bg[i][0] - np.matmul(Ag[i], v)[0]) ** 2 for i in range(m)]))\n",
    "        return np.matmul(Ag.T, np.matmul(d, Ag))\n",
    "\n",
    "    def F(x, t):\n",
    "        return t * func(x) - sum([np.log(bg[i][0] - np.matmul(Ag[i], x)[0]) for i in range(m)])\n",
    "    \n",
    "    def F_grad(x, t):\n",
    "        return t * f_grad(x) + log_bar_grad(x)\n",
    "    \n",
    "    def F_hess(x, t):\n",
    "        return t * f_hess(x) + log_bar_hess(x)\n",
    "    \n",
    "    alpha = 1.1\n",
    "    t = 0.5\n",
    "    traj = []\n",
    "    traj.append(x_start.copy())\n",
    "    cur_x = x_start.copy()\n",
    "    for i in range(N):\n",
    "        cur_x = np.array(cur_x - np.matmul(np.linalg.inv(F_hess(cur_x, t)), F_grad(cur_x, t)))\n",
    "        traj.append(cur_x.copy())\n",
    "        t *= alpha\n",
    "    return traj"
   ]
  },
  {
   "cell_type": "code",
   "execution_count": 62,
   "metadata": {},
   "outputs": [
    {
     "name": "stdout",
     "output_type": "stream",
     "text": [
      "[[0.74672722]\n",
      " [0.99815644]]\n",
      "[[0.75]\n",
      " [1.  ]]\n"
     ]
    }
   ],
   "source": [
    "A = np.array([[4, -2], [-2, 2]])\n",
    "b = np.array([[1], [2]])\n",
    "c = 3\n",
    "Ag = np.array([[1, 0], [-1, 0], [0, 1], [0, -1]])\n",
    "bg = np.array([[1], [1], [1], [1]])\n",
    "traj = inner_point_method(A, b, c, Ag, bg, np.array(np.matrix(inner_point(Ag, bg)).T))\n",
    "print(traj[-1])\n",
    "#ans\n",
    "print(np.array([[3.0 / 4], [1]]))"
   ]
  },
  {
   "cell_type": "code",
   "execution_count": null,
   "metadata": {},
   "outputs": [],
   "source": []
  },
  {
   "cell_type": "code",
   "execution_count": null,
   "metadata": {},
   "outputs": [],
   "source": []
  },
  {
   "cell_type": "code",
   "execution_count": null,
   "metadata": {},
   "outputs": [],
   "source": []
  }
 ],
 "metadata": {
  "kernelspec": {
   "display_name": "Python 2",
   "language": "python",
   "name": "python2"
  },
  "language_info": {
   "codemirror_mode": {
    "name": "ipython",
    "version": 2
   },
   "file_extension": ".py",
   "mimetype": "text/x-python",
   "name": "python",
   "nbconvert_exporter": "python",
   "pygments_lexer": "ipython2",
   "version": "2.7.15"
  }
 },
 "nbformat": 4,
 "nbformat_minor": 2
}
